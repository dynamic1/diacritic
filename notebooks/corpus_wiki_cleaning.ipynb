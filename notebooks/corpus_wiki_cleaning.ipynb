{
 "cells": [
  {
   "cell_type": "code",
   "execution_count": 1,
   "metadata": {},
   "outputs": [],
   "source": [
    "from os import listdir, walk\n",
    "from os.path import isfile, join\n",
    "\n",
    "import xml.etree.ElementTree as etree\n",
    "\n",
    "import re\n",
    "\n",
    "import gensim\n",
    "# from gensim.models.word2vec import word2vec\n",
    "\n",
    "\n",
    "from collections import Counter, defaultdict"
   ]
  },
  {
   "cell_type": "code",
   "execution_count": 2,
   "metadata": {},
   "outputs": [],
   "source": [
    "# print all the variable names at the end of a cell ( not just the last one)\n",
    "from IPython.core.interactiveshell import InteractiveShell\n",
    "InteractiveShell.ast_node_interactivity = \"all\""
   ]
  },
  {
   "cell_type": "code",
   "execution_count": 3,
   "metadata": {},
   "outputs": [],
   "source": [
    "import matplotlib\n",
    "import matplotlib.pyplot as plt\n",
    "# matplotlib.use(\"TkAgg\")\n",
    "%matplotlib inline"
   ]
  },
  {
   "cell_type": "code",
   "execution_count": 4,
   "metadata": {},
   "outputs": [
    {
     "name": "stderr",
     "output_type": "stream",
     "text": [
      "/storage/xalex/anaconda3/lib/python3.6/site-packages/h5py/__init__.py:36: FutureWarning: Conversion of the second argument of issubdtype from `float` to `np.floating` is deprecated. In future, it will be treated as `np.float64 == np.dtype(float).type`.\n",
      "  from ._conv import register_converters as _register_converters\n",
      "Using TensorFlow backend.\n"
     ]
    }
   ],
   "source": [
    "from keras.preprocessing.text import text_to_word_sequence"
   ]
  },
  {
   "cell_type": "code",
   "execution_count": 5,
   "metadata": {},
   "outputs": [],
   "source": [
    "import pickle\n",
    "\n",
    "DATA_PATH = '../data'\n",
    "FILE_FOR_COUNTERS = '../data/saved_counters.pickle'"
   ]
  },
  {
   "cell_type": "code",
   "execution_count": 13,
   "metadata": {},
   "outputs": [],
   "source": [
    "# load word_counter and word_counter_lower from files\n",
    "with open(FILE_FOR_COUNTERS, 'rb') as dump_file:\n",
    "    word_counter, word_counter_lower = pickle.load(dump_file)"
   ]
  },
  {
   "cell_type": "code",
   "execution_count": 14,
   "metadata": {},
   "outputs": [
    {
     "name": "stdout",
     "output_type": "stream",
     "text": [
      "aventurile 712\n"
     ]
    }
   ],
   "source": [
    "for word, count in word_counter_lower.items():\n",
    "    print(word, count)\n",
    "    break"
   ]
  },
  {
   "cell_type": "code",
   "execution_count": 15,
   "metadata": {},
   "outputs": [
    {
     "name": "stdout",
     "output_type": "stream",
     "text": [
      "1062151 words / 56473476 accurencies\n",
      "116100 words / 2491192 accurencies\n"
     ]
    }
   ],
   "source": [
    "from collections import Counter\n",
    "import re\n",
    "\n",
    "dirty_patterns = {}\n",
    "dirty_patterns['ilegal char'] = re.compile('[^a-zA-Zîășțîâ/-]')\n",
    "dirty_patterns['too long'] = re.compile('.{30,}')\n",
    "dirty_patterns['is number'] = re.compile('[0-9]')\n",
    "dirty_patterns['start hyphen'] = re.compile('^-')\n",
    "dirty_patterns['stop hyphen'] = re.compile('.*-$')\n",
    "\n",
    "\n",
    "dirty_reps = {}\n",
    "dirty_reps['too many hyphens'] = re.compile('-')\n",
    "dirty_reps['numbers'] = re.compile('[0-9]')\n",
    "\n",
    "silent_patterns = [\"ilegal char\", \"is number\", \"too many hyphens\", \"numbers\"]\n",
    "silent_patterns.append('too long')\n",
    "silent_patterns.append(\"start hyphen\")\n",
    "silent_patterns.append(\"stop hyphen\")\n",
    "re_dirty_words = re.compile('[a-zA-Z0-9îășțîâ/-]')\n",
    "\n",
    "clean_words_lower = Counter()\n",
    "i=0\n",
    "i_sum = 0\n",
    "count_dirty = 0\n",
    "dirty_sum = 0\n",
    "for word, count in word_counter_lower.items():\n",
    "    i+= 1\n",
    "    i_sum += count\n",
    "    dirty_word = False\n",
    "    if i > 999000000:\n",
    "        break\n",
    "    for pattern_name, re_dirty in dirty_patterns.items():\n",
    "        if re_dirty.match(word):\n",
    "#             print(f\"{pattern_name}: {word}\")\n",
    "            dirty_word=True\n",
    "            if (pattern_name) not in silent_patterns:\n",
    "                print(f\"{pattern_name}: {word}\")\n",
    "        \n",
    "#             break\n",
    "    if dirty_word:\n",
    "        pass\n",
    "#         continue\n",
    "    for rep_name, re_dirty in dirty_reps.items():\n",
    "        if len(re_dirty.findall(word)) > 1:\n",
    "            dirty_word=True\n",
    "            if (rep_name) not in silent_patterns:\n",
    "                print(f\"{rep_name}: {word}\")\n",
    "    if dirty_word:\n",
    "        count_dirty += 1\n",
    "        dirty_sum += count\n",
    "    else:\n",
    "        clean_words_lower[word] = count\n",
    "        \n",
    "print(f\"{i} words / {i_sum} accurencies\")\n",
    "print(f\"{count_dirty} words / {dirty_sum} accurencies\")"
   ]
  },
  {
   "cell_type": "code",
   "execution_count": 16,
   "metadata": {},
   "outputs": [
    {
     "data": {
      "text/plain": [
       "946051"
      ]
     },
     "execution_count": 16,
     "metadata": {},
     "output_type": "execute_result"
    }
   ],
   "source": [
    "len(clean_words_lower)"
   ]
  },
  {
   "cell_type": "code",
   "execution_count": 17,
   "metadata": {},
   "outputs": [],
   "source": [
    "import pickle\n",
    "with open(join(DATA_PATH, 'pickle_clean_words_lower.pickle'), 'wb') as dump_file:\n",
    "    pickle.dump(clean_words_lower, dump_file)"
   ]
  },
  {
   "cell_type": "code",
   "execution_count": 18,
   "metadata": {},
   "outputs": [
    {
     "data": {
      "text/plain": [
       "False"
      ]
     },
     "execution_count": 18,
     "metadata": {},
     "output_type": "execute_result"
    }
   ],
   "source": [
    "\"a-\" in clean_words_lower"
   ]
  },
  {
   "cell_type": "code",
   "execution_count": null,
   "metadata": {},
   "outputs": [],
   "source": []
  }
 ],
 "metadata": {
  "kernelspec": {
   "display_name": "Python 3",
   "language": "python",
   "name": "python3"
  },
  "language_info": {
   "codemirror_mode": {
    "name": "ipython",
    "version": 3
   },
   "file_extension": ".py",
   "mimetype": "text/x-python",
   "name": "python",
   "nbconvert_exporter": "python",
   "pygments_lexer": "ipython3",
   "version": "3.6.4"
  }
 },
 "nbformat": 4,
 "nbformat_minor": 2
}
