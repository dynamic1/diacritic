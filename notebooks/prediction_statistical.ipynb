{
 "cells": [
  {
   "cell_type": "code",
   "execution_count": 66,
   "metadata": {},
   "outputs": [],
   "source": [
    "import pickle\n",
    "from os.path import join\n",
    "from keras.preprocessing.text import text_to_word_sequence\n",
    "\n",
    "# print all the variable names at the end of a cell ( not just the last one)\n",
    "from IPython.core.interactiveshell import InteractiveShell\n",
    "InteractiveShell.ast_node_interactivity = \"all\"\n",
    "\n",
    "import matplotlib\n",
    "import matplotlib.pyplot as plt\n",
    "# matplotlib.use(\"TkAgg\")\n",
    "%matplotlib inline\n",
    "\n",
    "import progressbar\n",
    "from collections import Counter, defaultdict"
   ]
  },
  {
   "cell_type": "code",
   "execution_count": 6,
   "metadata": {},
   "outputs": [],
   "source": [
    "DATA_PATH = \"../data/\""
   ]
  },
  {
   "cell_type": "code",
   "execution_count": 9,
   "metadata": {},
   "outputs": [],
   "source": [
    "with open(join(DATA_PATH, 'rowiki_spellings.pickle'), 'rb') as pickle_file:\n",
    "    spellings = pickle.load(pickle_file)"
   ]
  },
  {
   "cell_type": "code",
   "execution_count": 10,
   "metadata": {},
   "outputs": [
    {
     "data": {
      "text/plain": [
       "Counter({'in-tro': 1,\n",
       "         'intr-o': 621,\n",
       "         'intro': 71,\n",
       "         'în-tro': 4,\n",
       "         'într-o': 37987,\n",
       "         'întro': 37})"
      ]
     },
     "execution_count": 10,
     "metadata": {},
     "output_type": "execute_result"
    }
   ],
   "source": [
    "spellings['intro']"
   ]
  },
  {
   "cell_type": "code",
   "execution_count": 53,
   "metadata": {},
   "outputs": [
    {
     "name": "stdout",
     "output_type": "stream",
     "text": [
      "Counter({'săptămână': 2814, 'săptămâna': 717, 'saptamana': 55, 'săptamână': 24, 'saptămână': 11, 'săptămana': 10, 'saptamâna': 10, 'săptamâna': 6, 'saptâmână': 5, 'săptâmână': 5, 'saptămâna': 5, 'săptămană': 4, 'săptamană': 3, 'saptamană': 2, 'săptâmană': 2, 'săptamana': 2, 'saptămană': 1, 'saptamână': 1, 'săptamănă': 1, 'săptămănă': 1})\n"
     ]
    },
    {
     "data": {
      "text/plain": [
       "20"
      ]
     },
     "execution_count": 53,
     "metadata": {},
     "output_type": "execute_result"
    }
   ],
   "source": [
    "most_spellings = max(spellings, key=lambda x: len(spellings[x]))\n",
    "print(spellings[most_spellings])\n",
    "len(spellings[most_spellings])"
   ]
  },
  {
   "cell_type": "code",
   "execution_count": 72,
   "metadata": {},
   "outputs": [],
   "source": [
    "spelling_weights = defaultdict(Counter)\n",
    "\n",
    "for spelling, options in spellings.items():\n",
    "    total = sum(options.values())\n",
    "#     print(options)\n",
    "#     print(total)\n",
    "    for word, count in options.items():\n",
    "        weight = float(count)/total\n",
    "#         print(weight)\n",
    "        spelling_weights[spelling][word] = weight\n",
    "    \n",
    "#     break\n",
    "    \n",
    "# print(spelling_weights)"
   ]
  },
  {
   "cell_type": "code",
   "execution_count": 69,
   "metadata": {},
   "outputs": [],
   "source": [
    "# this is the input I would like to correct\n",
    "\n",
    "input_text = \"Ambasadorul SUA la Natiunile Unite, Nikky Haley, a declarat miercuri ca Statele Unite considera ca Rusia este responsabila pentru atacul chimic din Marea Britanie asupra fostului spion rus si a fiicei sale. De asemenea, Consiliul de Securitate al ONU ar trebui sa ia masuri, mai spune aceasta, potrivit reuters.com.Premierul britaqnic Theresa May a anuntat, intr-un discurs tinut in parlament, ca va expulza 23 de diplomati rusi. May a adaugat ca este cel mai masiv val de expulzari din ultimii peste 30 de ani. Ambasadorul Moscovei la Londra a avertizat ca vor exista masuri reciproce daca Regatul Unit expulzeaza diplomati rusi.\""
   ]
  },
  {
   "cell_type": "code",
   "execution_count": 81,
   "metadata": {},
   "outputs": [],
   "source": [
    "\n",
    "def fix_statistically(text):\n",
    "    \n",
    "    for word in text_to_word_sequence(text.lower(), \n",
    "                                        filters='!\"#$%&()*+,./:;<=>?@[\\\\]^_`{|}~\\t\\n',\n",
    "                                        lower=True):\n",
    "        status = \"-\"\n",
    "        sugestion = word\n",
    "        candidate_spellings = spelling_weights[word]\n",
    "        count_candidates = len(candidate_spellings)\n",
    "        \n",
    "        if count_candidates == 0:\n",
    "            status = \"error\"\n",
    "        elif count_candidates == 1:\n",
    "            status = \"ok\"\n",
    "        else:\n",
    "            status = 'select'\n",
    "            sugestion = max(candidate_spellings, key=lambda x:candidate_spellings[x])\n",
    "            \n",
    "            \n",
    "        print(f\"{word}: {status} {sugestion}        {candidate_spellings}          {count_candidates}\")"
   ]
  },
  {
   "cell_type": "code",
   "execution_count": 83,
   "metadata": {},
   "outputs": [
    {
     "name": "stdout",
     "output_type": "stream",
     "text": [
      "ambasadorul: ok ambasadorul        Counter({'ambasadorul': 1.0})          1\n",
      "sua: select sua        Counter({'sua': 0.9998086673682196, 's-ua': 0.00019133263178035013})          2\n",
      "la: select la        Counter({'la': 0.9703942806958076, 'l-a': 0.02960090442660586, 'lă': 3.851902069241792e-06, 'lâ': 9.62975517310448e-07})          4\n",
      "natiunile: select națiunile        Counter({'națiunile': 0.9884169884169884, 'natiunile': 0.011583011583011582})          2\n",
      "unite: select unite        Counter({'unite': 0.9998328597693464, 'u-nite': 0.00016714023065351831})          2\n",
      "nikky: ok nikky        Counter({'nikky': 1.0})          1\n",
      "haley: ok haley        Counter({'haley': 1.0})          1\n",
      "a: select a        Counter({'a': 0.9997411674070461, 'ă': 0.00017181606812784224, 'â': 8.701652482603624e-05})          3\n",
      "declarat: ok declarat        Counter({'declarat': 1.0})          1\n",
      "miercuri: ok miercuri        Counter({'miercuri': 1.0})          1\n",
      "ca: select ca        Counter({'ca': 0.5392982301725356, 'că': 0.46061375328035353, 'câ': 6.253807294718775e-05, 'c-a': 2.5478474163669085e-05})          4\n",
      "statele: select statele        Counter({'statele': 0.9998361908922136, 'ștatele': 0.00016380910778639293})          2\n",
      "unite: select unite        Counter({'unite': 0.9998328597693464, 'u-nite': 0.00016714023065351831})          2\n",
      "considera: select consideră        Counter({'consideră': 0.6836146562371346, 'considera': 0.31638534376286537})          2\n",
      "ca: select ca        Counter({'ca': 0.5392982301725356, 'că': 0.46061375328035353, 'câ': 6.253807294718775e-05, 'c-a': 2.5478474163669085e-05})          4\n",
      "rusia: ok rusia        Counter({'rusia': 1.0})          1\n",
      "este: select este        Counter({'este': 0.9999961574423937, 'ește': 3.8425576063427815e-06})          2\n",
      "responsabila: select responsabilă        Counter({'responsabilă': 0.9693721286370597, 'responsabila': 0.030627871362940276})          2\n",
      "pentru: select pentru        Counter({'pentru': 0.999994876537359, 'pen-tru': 5.123462640991288e-06})          2\n",
      "atacul: ok atacul        Counter({'atacul': 1.0})          1\n",
      "chimic: ok chimic        Counter({'chimic': 1.0})          1\n",
      "din: select din        Counter({'din': 0.9999859298479808, 'dîn': 1.4070152019198722e-05})          2\n",
      "marea: select marea        Counter({'marea': 0.9988013014441464, 'mărea': 0.0011986985558536446})          2\n",
      "britanie: ok britanie        Counter({'britanie': 1.0})          1\n",
      "asupra: select asupra        Counter({'asupra': 0.9998692938600791, 'asupră': 0.0001307061399209228})          2\n",
      "fostului: ok fostului        Counter({'fostului': 1.0})          1\n",
      "spion: ok spion        Counter({'spion': 1.0})          1\n",
      "rus: select rus        Counter({'rus': 0.9993581514762516, 'ruș': 0.0006418485237483953})          2\n",
      "si: select și        Counter({'și': 0.9799503160425648, 'si': 0.020019746790266076, 'șî': 2.3480131113052136e-05, 'sî': 4.696026222610427e-06, 'ș-i': 1.1740065556526068e-06, 's-i': 5.870032778263034e-07})          6\n",
      "a: select a        Counter({'a': 0.9997411674070461, 'ă': 0.00017181606812784224, 'â': 8.701652482603624e-05})          3\n",
      "fiicei: ok fiicei        Counter({'fiicei': 1.0})          1\n",
      "sale: select sale        Counter({'sale': 0.9996770605332089, 'săle': 0.00012558757041874485, 'să-le': 0.00010764648893035273, 'șale': 7.176432595356848e-05, 'ș-ale': 1.794108148839212e-05})          5\n",
      "de: ok de        Counter({'de': 1.0})          1\n",
      "asemenea: ok asemenea        Counter({'asemenea': 1.0})          1\n",
      "consiliul: ok consiliul        Counter({'consiliul': 1.0})          1\n",
      "de: ok de        Counter({'de': 1.0})          1\n",
      "securitate: ok securitate        Counter({'securitate': 1.0})          1\n",
      "al: select al        Counter({'al': 0.9889194468602444, 'a-l': 0.011019083048370132, 'ăl': 5.919342133421972e-05, 'âl': 2.276670051316143e-06})          4\n",
      "onu: ok onu        Counter({'onu': 1.0})          1\n",
      "ar: select ar        Counter({'ar': 0.9999216039825177, 'a-r': 3.919800874115595e-05, 'ăr': 3.919800874115595e-05})          3\n",
      "trebui: ok trebui        Counter({'trebui': 1.0})          1\n",
      "sa: select să        Counter({'să': 0.5732248320460408, 's-a': 0.2761986904039017, 'sa': 0.15017037125850405, 'șa': 0.00019531778784233795, 'șă': 8.508893727785019e-05, 'ș-a': 8.122125831067518e-05, 'sâ': 3.2875271220987576e-05, 's-ă': 1.1603036901525025e-05})          8\n",
      "ia: select i-a        Counter({'i-a': 0.7934424350118942, 'ia': 0.20629961881287437, 'î-a': 0.00011464274454730446, 'îa': 5.732137227365223e-05, 'îâ': 5.732137227365223e-05, 'îă': 2.8660686136826114e-05})          6\n",
      "masuri: select măsuri        Counter({'măsuri': 0.9842829076620825, 'masuri': 0.015717092337917484})          2\n",
      "mai: select mai        Counter({'mai': 0.9996822839530881, 'm-ai': 0.00016511227634791658, 'măi': 0.00012758675899611735, 'ma-i': 2.501701156786615e-05})          4\n",
      "spune: ok spune        Counter({'spune': 1.0})          1\n",
      "aceasta: select această        Counter({'această': 0.6542785017692241, 'aceasta': 0.34561361871062396, 'aceastâ': 4.3151808060757745e-05, 'aceasță': 3.236385604556831e-05, 'aceas-tă': 3.236385604556831e-05})          5\n",
      "potrivit: ok potrivit        Counter({'potrivit': 1.0})          1\n",
      "reuters: ok reuters        Counter({'reuters': 1.0})          1\n",
      "com: ok com        Counter({'com': 1.0})          1\n",
      "premierul: ok premierul        Counter({'premierul': 1.0})          1\n",
      "britaqnic: error britaqnic        Counter()          0\n",
      "theresa: ok theresa        Counter({'theresa': 1.0})          1\n",
      "may: ok may        Counter({'may': 1.0})          1\n",
      "a: select a        Counter({'a': 0.9997411674070461, 'ă': 0.00017181606812784224, 'â': 8.701652482603624e-05})          3\n",
      "anuntat: select anunțat        Counter({'anunțat': 0.9824817518248176, 'anuntat': 0.017518248175182483})          2\n",
      "intr-un: select într-un        Counter({'într-un': 0.9813859089591186, 'intr-un': 0.018614091040881416})          2\n",
      "discurs: ok discurs        Counter({'discurs': 1.0})          1\n",
      "tinut: select ținut        Counter({'ținut': 0.9833087874324987, 'tinut': 0.016691212567501227})          2\n",
      "in: select în        Counter({'în': 0.9789724063983894, 'in': 0.02102759360161054})          2\n",
      "parlament: ok parlament        Counter({'parlament': 1.0})          1\n",
      "ca: select ca        Counter({'ca': 0.5392982301725356, 'că': 0.46061375328035353, 'câ': 6.253807294718775e-05, 'c-a': 2.5478474163669085e-05})          4\n",
      "va: select va        Counter({'va': 0.9614746883380074, 'vă': 0.026775296309185074, 'v-a': 0.011729544942785204, 'vâ': 2.0470410022312746e-05})          4\n",
      "expulza: ok expulza        Counter({'expulza': 1.0})          1\n",
      "23: error 23        Counter()          0\n",
      "de: ok de        Counter({'de': 1.0})          1\n",
      "diplomati: select diplomați        Counter({'diplomați': 0.9944444444444445, 'diplomati': 0.005555555555555556})          2\n",
      "rusi: select ruși        Counter({'ruși': 0.9840942562592047, 'rusi': 0.015905743740795286})          2\n",
      "may: ok may        Counter({'may': 1.0})          1\n",
      "a: select a        Counter({'a': 0.9997411674070461, 'ă': 0.00017181606812784224, 'â': 8.701652482603624e-05})          3\n",
      "adaugat: select adăugat        Counter({'adăugat': 0.9682944606413995, 'adaugat': 0.03134110787172012, 'adâugat': 0.00036443148688046647})          3\n",
      "ca: select ca        Counter({'ca': 0.5392982301725356, 'că': 0.46061375328035353, 'câ': 6.253807294718775e-05, 'c-a': 2.5478474163669085e-05})          4\n",
      "este: select este        Counter({'este': 0.9999961574423937, 'ește': 3.8425576063427815e-06})          2\n",
      "cel: select cel        Counter({'cel': 0.9939713038622403, 'ce-l': 0.006028696137759695})          2\n",
      "mai: select mai        Counter({'mai': 0.9996822839530881, 'm-ai': 0.00016511227634791658, 'măi': 0.00012758675899611735, 'ma-i': 2.501701156786615e-05})          4\n",
      "masiv: select masiv        Counter({'masiv': 0.9985724482512491, 'mașiv': 0.0014275517487508922})          2\n",
      "val: select val        Counter({'val': 0.9412780656303973, 'văl': 0.05814622913068509, 'v-al': 0.0005757052389176742})          3\n",
      "de: ok de        Counter({'de': 1.0})          1\n",
      "expulzari: ok expulzari        Counter({'expulzări': 1.0})          1\n",
      "din: select din        Counter({'din': 0.9999859298479808, 'dîn': 1.4070152019198722e-05})          2\n",
      "ultimii: ok ultimii        Counter({'ultimii': 1.0})          1\n",
      "peste: select peste        Counter({'peste': 0.9570517039114138, 'pește': 0.042948296088586226})          2\n",
      "30: error 30        Counter()          0\n",
      "de: ok de        Counter({'de': 1.0})          1\n",
      "ani: select ani        Counter({'ani': 0.9999740636995539, 'âni': 2.5936300446104367e-05})          2\n",
      "ambasadorul: ok ambasadorul        Counter({'ambasadorul': 1.0})          1\n",
      "moscovei: ok moscovei        Counter({'moscovei': 1.0})          1\n",
      "la: select la        Counter({'la': 0.9703942806958076, 'l-a': 0.02960090442660586, 'lă': 3.851902069241792e-06, 'lâ': 9.62975517310448e-07})          4\n",
      "londra: select londra        Counter({'londra': 0.9986263736263736, 'londră': 0.0013736263736263737})          2\n",
      "a: select a        Counter({'a': 0.9997411674070461, 'ă': 0.00017181606812784224, 'â': 8.701652482603624e-05})          3\n",
      "avertizat: ok avertizat        Counter({'avertizat': 1.0})          1\n",
      "ca: select ca        Counter({'ca': 0.5392982301725356, 'că': 0.46061375328035353, 'câ': 6.253807294718775e-05, 'c-a': 2.5478474163669085e-05})          4\n",
      "vor: ok vor        Counter({'vor': 1.0})          1\n",
      "exista: select există        Counter({'există': 0.8635543255925882, 'exista': 0.13641559379136084, 'existâ': 3.0080616051016725e-05})          3\n",
      "masuri: select măsuri        Counter({'măsuri': 0.9842829076620825, 'masuri': 0.015717092337917484})          2\n",
      "reciproce: ok reciproce        Counter({'reciproce': 1.0})          1\n",
      "daca: select dacă        Counter({'dacă': 0.9691497366440933, 'daca': 0.030713455092687598, 'dăcă': 6.840413160954922e-05, 'dăca': 3.420206580477461e-05, 'dacâ': 3.420206580477461e-05})          5\n",
      "regatul: ok regatul        Counter({'regatul': 1.0})          1\n",
      "unit: ok unit        Counter({'unit': 1.0})          1\n",
      "expulzeaza: select expulzează        Counter({'expulzează': 0.7727272727272727, 'expulzeaza': 0.22727272727272727})          2\n",
      "diplomati: select diplomați        Counter({'diplomați': 0.9944444444444445, 'diplomati': 0.005555555555555556})          2\n",
      "rusi: select ruși        Counter({'ruși': 0.9840942562592047, 'rusi': 0.015905743740795286})          2\n"
     ]
    }
   ],
   "source": [
    "fix_statistically(input_text)\n",
    "# fix_statistically(\"statele\")"
   ]
  },
  {
   "cell_type": "code",
   "execution_count": null,
   "metadata": {},
   "outputs": [],
   "source": []
  }
 ],
 "metadata": {
  "kernelspec": {
   "display_name": "Python 3",
   "language": "python",
   "name": "python3"
  },
  "language_info": {
   "codemirror_mode": {
    "name": "ipython",
    "version": 3
   },
   "file_extension": ".py",
   "mimetype": "text/x-python",
   "name": "python",
   "nbconvert_exporter": "python",
   "pygments_lexer": "ipython3",
   "version": "3.6.4"
  }
 },
 "nbformat": 4,
 "nbformat_minor": 2
}
